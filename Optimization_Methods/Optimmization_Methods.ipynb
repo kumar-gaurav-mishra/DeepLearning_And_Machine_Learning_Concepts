{
 "cells": [
  {
   "cell_type": "markdown",
   "metadata": {},
   "source": [
    "# Advanced Optimization Methods\n",
    "\n",
    "    Having a good optimization algorithm can be the difference between waiting days vs. just a few hours to get a good result"
   ]
  },
  {
   "cell_type": "code",
   "execution_count": 3,
   "metadata": {},
   "outputs": [],
   "source": [
    "# Imports\n",
    "import numpy as np\n",
    "import matplotlib.pyplot as plt\n",
    "import scipy.io\n",
    "import math\n",
    "import sklearn\n",
    "import sklearn.datasets\n",
    "\n",
    "from test_data_generator import *\n",
    "from opt_utils import *"
   ]
  },
  {
   "cell_type": "markdown",
   "metadata": {},
   "source": [
    "### 1.) Gradient Descent"
   ]
  },
  {
   "cell_type": "code",
   "execution_count": 4,
   "metadata": {},
   "outputs": [],
   "source": [
    "# Update Params with Gradient Descent\n",
    "def update_params_with_gd(params, grads, lr):\n",
    "    L = len(params) // 2\n",
    "\n",
    "    for l in range(L):\n",
    "        params['W' + str(l+1)] = params['W' + str(l+1)] - lr * grads['dW' + str(l+1)]\n",
    "        params['b' + str(l+1)] = params['b' + str(l+1)] - lr * grads['db' + str(l+1)]\n",
    "    return params"
   ]
  },
  {
   "cell_type": "code",
   "execution_count": 5,
   "metadata": {},
   "outputs": [
    {
     "name": "stdout",
     "output_type": "stream",
     "text": [
      "W1 =\n",
      "[[ 1.63535156 -0.62320365 -0.53718766]\n",
      " [-1.07799357  0.85639907 -2.29470142]]\n",
      "b1 =\n",
      "[[ 1.74604067]\n",
      " [-0.75184921]]\n",
      "W2 =\n",
      "[[ 0.32171798 -0.25467393  1.46902454]\n",
      " [-2.05617317 -0.31554548 -0.3756023 ]\n",
      " [ 1.1404819  -1.09976462 -0.1612551 ]]\n",
      "b2 =\n",
      "[[-0.88020257]\n",
      " [ 0.02561572]\n",
      " [ 0.57539477]]\n"
     ]
    }
   ],
   "source": [
    "params, grads, learning_rate = update_parameters_with_gd_test_case()\n",
    "\n",
    "params = update_params_with_gd(params, grads, learning_rate)\n",
    "print(\"W1 =\\n\" + str(params[\"W1\"]))\n",
    "print(\"b1 =\\n\" + str(params[\"b1\"]))\n",
    "print(\"W2 =\\n\" + str(params[\"W2\"]))\n",
    "print(\"b2 =\\n\" + str(params[\"b2\"]))"
   ]
  },
  {
   "cell_type": "markdown",
   "metadata": {},
   "source": [
    "## 2.) Random Mini Batches"
   ]
  },
  {
   "cell_type": "code",
   "execution_count": 6,
   "metadata": {},
   "outputs": [],
   "source": [
    "# Random mini batches\n",
    "def random_mini_batches(X, Y, mini_batch_size = 64, seed = 0):\n",
    "    np.random.seed(seed)\n",
    "    m = X.shape[1]\n",
    "    mini_batches = []\n",
    "\n",
    "    permutation = list(np.random.permutation(m))\n",
    "    shuffled_X = X[:, permutation]\n",
    "    shuffled_Y = Y[:, permutation]\n",
    "    num_complete_minibatches = math.floor(m/mini_batch_size)\n",
    "    for k in range(0, num_complete_minibatches):\n",
    "        mini_batch_X = shuffled_X[:, k*mini_batch_size : (k+1)*mini_batch_size]\n",
    "        mini_batch_Y = shuffled_Y[:, k*mini_batch_size : (k+1)*mini_batch_size]\n",
    "        mini_batch = (mini_batch_X, mini_batch_Y)\n",
    "        mini_batches.append(mini_batch)\n",
    "\n",
    "\n",
    "\n",
    "    if m % mini_batch_size != 0:\n",
    "        mini_batch_X = shuffled_X[:, int(m / mini_batch_size)*mini_batch_size : ]\n",
    "        mini_batch_Y = shuffled_Y[:, int(m / mini_batch_size)*mini_batch_size : ]\n",
    "        mini_batch = (mini_batch_X, mini_batch_Y)\n",
    "        mini_batches.append(mini_batch)\n",
    "\n",
    "    return mini_batches"
   ]
  },
  {
   "cell_type": "code",
   "execution_count": 7,
   "metadata": {},
   "outputs": [
    {
     "name": "stdout",
     "output_type": "stream",
     "text": [
      "Minibatches length:  [(array([[ 0.90085595, -0.7612069 ,  0.2344157 , ...,  0.12015895,\n",
      "         0.86888616, -0.60392063],\n",
      "       [ 2.52832571, -0.10015523, -0.61736206, ...,  0.60231928,\n",
      "        -0.18657899,  1.39984394],\n",
      "       [-0.13597733, -0.8805776 , -0.10679399, ..., -0.10999149,\n",
      "         0.80884436,  0.35016716],\n",
      "       ...,\n",
      "       [-0.43984921,  0.28742058, -0.6785365 , ...,  0.76544547,\n",
      "        -0.71181932,  0.1410268 ],\n",
      "       [-1.63271355,  0.07176604,  0.34552524, ..., -0.94969794,\n",
      "        -0.66824325, -1.22559617],\n",
      "       [-0.12821597,  0.19427479, -1.6059598 , ..., -2.34856141,\n",
      "        -2.08924821, -0.73948309]]), array([[ True, False,  True,  True,  True, False,  True,  True,  True,\n",
      "        False,  True,  True,  True,  True,  True,  True,  True,  True,\n",
      "         True,  True, False, False, False,  True,  True,  True,  True,\n",
      "        False,  True,  True, False,  True,  True,  True,  True,  True,\n",
      "         True,  True, False,  True, False,  True,  True, False,  True,\n",
      "         True, False, False,  True, False, False, False,  True,  True,\n",
      "        False,  True,  True, False, False,  True, False, False,  True,\n",
      "         True]])), (array([[-0.38405435, -1.09491185,  0.40890054, ..., -1.39649634,\n",
      "        -1.19926803, -0.22232814],\n",
      "       [-0.99702683, -2.793085  ,  0.26246745, ..., -0.43495668,\n",
      "        -1.44087602, -0.7003985 ],\n",
      "       [-0.59980453, -1.30653407, -1.77756638, ...,  0.7278135 ,\n",
      "         2.0546241 ,  2.13782807],\n",
      "       ...,\n",
      "       [ 0.34791317, -0.19426569,  1.87155926, ..., -0.78180703,\n",
      "         0.56302246,  0.2564519 ],\n",
      "       [ 0.77090151,  0.26419577, -2.14193315, ...,  0.43071693,\n",
      "         1.78589994, -0.84248332],\n",
      "       [-1.86924757, -0.56255182,  0.74245719, ..., -0.09469001,\n",
      "         1.28673291, -0.98401223]]), array([[ True,  True,  True,  True,  True,  True, False, False,  True,\n",
      "        False,  True,  True,  True,  True,  True,  True,  True,  True,\n",
      "         True, False,  True,  True,  True, False,  True, False,  True,\n",
      "        False, False,  True, False,  True, False,  True,  True,  True,\n",
      "         True,  True,  True,  True,  True,  True, False,  True,  True,\n",
      "         True,  True,  True,  True, False,  True, False,  True,  True,\n",
      "        False,  True,  True,  True, False,  True,  True, False,  True,\n",
      "         True]])), (array([[-1.31228341,  0.75041164,  0.16003707, ...,  1.51981682,\n",
      "        -1.61577235,  2.10025514],\n",
      "       [-0.37443832, -0.05682448,  1.6169496 , ...,  0.87583893,\n",
      "         1.20205486, -1.62743834],\n",
      "       [ 2.05635552,  1.78975468,  0.58464661, ...,  0.35249436,\n",
      "        -0.06065249,  0.32352735],\n",
      "       ...,\n",
      "       [-0.71856514, -1.23515063,  2.24485271, ...,  0.55252448,\n",
      "         0.77115261,  0.53397048],\n",
      "       [-0.85038144, -0.46241384, -2.01226166, ...,  1.72370955,\n",
      "         0.20415601,  0.28785222],\n",
      "       [ 1.60763531, -1.16869442,  1.42982698, ...,  0.63629591,\n",
      "        -1.17158634, -0.34992497]]), array([[ True,  True,  True,  True,  True, False, False,  True,  True,\n",
      "         True,  True,  True,  True, False,  True, False,  True, False,\n",
      "         True,  True]]))]\n",
      "shape of the 1st mini_batch_X: (12288, 64)\n",
      "shape of the 2nd mini_batch_X: (12288, 64)\n",
      "shape of the 3rd mini_batch_X: (12288, 20)\n",
      "shape of the 1st mini_batch_Y: (1, 64)\n",
      "shape of the 2nd mini_batch_Y: (1, 64)\n",
      "shape of the 3rd mini_batch_Y: (1, 20)\n",
      "mini batch sanity check: [ 0.90085595 -0.7612069   0.2344157 ]\n"
     ]
    }
   ],
   "source": [
    "X_assess, Y_assess, mini_batch_size = random_mini_batches_test_case()\n",
    "mini_batches = random_mini_batches(X_assess, Y_assess, mini_batch_size)\n",
    "print(\"Minibatches length: \", mini_batches)\n",
    "print (\"shape of the 1st mini_batch_X: \" + str(mini_batches[0][0].shape))\n",
    "print (\"shape of the 2nd mini_batch_X: \" + str(mini_batches[1][0].shape))\n",
    "print (\"shape of the 3rd mini_batch_X: \" + str(mini_batches[2][0].shape))\n",
    "print (\"shape of the 1st mini_batch_Y: \" + str(mini_batches[0][1].shape))\n",
    "print (\"shape of the 2nd mini_batch_Y: \" + str(mini_batches[1][1].shape)) \n",
    "print (\"shape of the 3rd mini_batch_Y: \" + str(mini_batches[2][1].shape))\n",
    "print (\"mini batch sanity check: \" + str(mini_batches[0][0][0][0:3]))"
   ]
  },
  {
   "cell_type": "markdown",
   "metadata": {},
   "source": [
    "## 3.) Momentum"
   ]
  },
  {
   "cell_type": "code",
   "execution_count": null,
   "metadata": {},
   "outputs": [],
   "source": [
    "# Initialize velocity vdW and vdb with the same shape as dW and db with np.zeros\n",
    "def initialize_velocity(params):\n",
    "    \n",
    "    L = len(params) // 2\n",
    "    v = {}\n",
    "\n",
    "    for l in range(L):\n",
    "        v['dW' + str(l+1)] = np.zeros((params['W' + str(l+1)].shape[0], params['W' + str(l+1)].shape[1]))\n",
    "        v['db' + str(l+1)] = np.zeros((params['b' + str(l+1)].shape[0], params['b' + str(l+1)].shape[1]))\n",
    "\n",
    "    return v"
   ]
  },
  {
   "cell_type": "code",
   "execution_count": 11,
   "metadata": {},
   "outputs": [
    {
     "name": "stdout",
     "output_type": "stream",
     "text": [
      "v[\"dW1\"] =\n",
      "[[0. 0. 0.]\n",
      " [0. 0. 0.]]\n",
      "v[\"db1\"] =\n",
      "[[0.]\n",
      " [0.]]\n",
      "v[\"dW2\"] =\n",
      "[[0. 0. 0.]\n",
      " [0. 0. 0.]\n",
      " [0. 0. 0.]]\n",
      "v[\"db2\"] =\n",
      "[[0.]\n",
      " [0.]\n",
      " [0.]]\n"
     ]
    }
   ],
   "source": [
    "params = initialize_velocity_test_case()\n",
    "\n",
    "v = initialize_velocity(params)\n",
    "print(\"v[\\\"dW1\\\"] =\\n\" + str(v[\"dW1\"]))\n",
    "print(\"v[\\\"db1\\\"] =\\n\" + str(v[\"db1\"]))\n",
    "print(\"v[\\\"dW2\\\"] =\\n\" + str(v[\"dW2\"]))\n",
    "print(\"v[\\\"db2\\\"] =\\n\" + str(v[\"db2\"]))"
   ]
  },
  {
   "cell_type": "code",
   "execution_count": null,
   "metadata": {},
   "outputs": [],
   "source": [
    "# Update params with momentum\n",
    "def update_params_with_momentum(params, grads, v, beta, lr):\n",
    "\n",
    "    L = len(params) // 2\n",
    "\n",
    "    for l in range(L):\n",
    "        # Comput velocity\n",
    "        v['dW' + str(l+1)] = beta*v['dW' + str(l+1)] + (1 - beta) * grads['dW' + str(l+1)]\n",
    "        v['db' + str(l+1)] = beta*v['db' + str(l+1)] + (1 - beta) * grads['db' + str(l+1)]\n",
    "        # Update parameters\n",
    "        params['W' + str(l+1)] = params['W' + str(l+1)] - lr * v['dW' + str(l+1)]\n",
    "        params['b' + str(l+1)] = params['b' + str(l+1)] - lr * v['db' + str(l+1)]\n",
    "\n",
    "    return params, v"
   ]
  }
 ],
 "metadata": {
  "kernelspec": {
   "display_name": "base",
   "language": "python",
   "name": "python3"
  },
  "language_info": {
   "codemirror_mode": {
    "name": "ipython",
    "version": 3
   },
   "file_extension": ".py",
   "mimetype": "text/x-python",
   "name": "python",
   "nbconvert_exporter": "python",
   "pygments_lexer": "ipython3",
   "version": "3.12.7"
  }
 },
 "nbformat": 4,
 "nbformat_minor": 2
}
